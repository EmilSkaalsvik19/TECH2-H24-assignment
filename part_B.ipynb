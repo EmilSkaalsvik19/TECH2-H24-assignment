{
 "cells": [
  {
   "cell_type": "markdown",
   "metadata": {},
   "source": [
    "# TECH 2 mandatory assignment - Part B\n",
    "\n",
    "Write your solution for Part B in this notebook."
   ]
  },
  {
   "cell_type": "code",
   "execution_count": 8,
   "metadata": {},
   "outputs": [],
   "source": [
    "\"Initial imports\"\n",
    "\n",
    "from part_A import std_builtin, std_loops\n",
    "from numpy import std\n",
    "\n",
    "f = open('data.csv', 'r')\n",
    "\n",
    "col1 = []\n",
    "col2 = []\n",
    "col3 = []\n",
    "\n",
    "for line in f:\n",
    "    values = line.strip().split(',')\n",
    "\n",
    "    if values[0] != '':\n",
    "        col1.append(float(values[0]))\n",
    "    \n",
    "    if values[1] != '':\n",
    "        col2.append(float(values[1]))\n",
    "    \n",
    "    if values[2] != '':\n",
    "        col3.append(float(values[2]))\n"
   ]
  },
  {
   "cell_type": "code",
   "execution_count": 9,
   "metadata": {},
   "outputs": [
    {
     "name": "stdout",
     "output_type": "stream",
     "text": [
      "13.7 μs ± 1.23 μs per loop (mean ± std. dev. of 7 runs, 100,000 loops each)\n",
      "10.8 μs ± 264 ns per loop (mean ± std. dev. of 7 runs, 100,000 loops each)\n",
      "31.7 μs ± 262 ns per loop (mean ± std. dev. of 7 runs, 10,000 loops each)\n"
     ]
    }
   ],
   "source": [
    "\"Computing col1\"\n",
    "%timeit std_loops(col1)\n",
    "\n",
    "%timeit std_builtin(col1)\n",
    "\n",
    "%timeit std(col1)"
   ]
  },
  {
   "cell_type": "code",
   "execution_count": 10,
   "metadata": {},
   "outputs": [
    {
     "name": "stdout",
     "output_type": "stream",
     "text": [
      "164 μs ± 20.3 μs per loop (mean ± std. dev. of 7 runs, 10,000 loops each)\n",
      "103 μs ± 5.56 μs per loop (mean ± std. dev. of 7 runs, 10,000 loops each)\n",
      "81.3 μs ± 1.28 μs per loop (mean ± std. dev. of 7 runs, 10,000 loops each)\n"
     ]
    }
   ],
   "source": [
    "\"Computing col2\"\n",
    "%timeit std_loops(col2)\n",
    "\n",
    "%timeit std_builtin(col2)\n",
    "\n",
    "%timeit std(col2)"
   ]
  },
  {
   "cell_type": "code",
   "execution_count": 11,
   "metadata": {},
   "outputs": [
    {
     "name": "stdout",
     "output_type": "stream",
     "text": [
      "1.59 ms ± 162 μs per loop (mean ± std. dev. of 7 runs, 1,000 loops each)\n",
      "1 ms ± 34.6 μs per loop (mean ± std. dev. of 7 runs, 1,000 loops each)\n",
      "532 μs ± 6.73 μs per loop (mean ± std. dev. of 7 runs, 1,000 loops each)\n"
     ]
    }
   ],
   "source": [
    "\"Computing col3\"\n",
    "%timeit std_loops(col3)\n",
    "\n",
    "%timeit std_builtin(col3)\n",
    "\n",
    "%timeit std(col3)"
   ]
  },
  {
   "cell_type": "markdown",
   "metadata": {},
   "source": [
    "### Conclusion\n",
    "\n",
    "For smaller datasets (col1) the built in functions of python is the fastest, and the numpy function is the slowest. \n",
    "\n",
    "For larger datasets, the numpy function is much faster than the built-in functions and loops. \n",
    "\n",
    "A developer therefore has to take the size of the dataset into consideration when choosing how the data is going to be computed. "
   ]
  }
 ],
 "metadata": {
  "kernelspec": {
   "display_name": "TECH2-assignment",
   "language": "python",
   "name": "python3"
  },
  "language_info": {
   "codemirror_mode": {
    "name": "ipython",
    "version": 3
   },
   "file_extension": ".py",
   "mimetype": "text/x-python",
   "name": "python",
   "nbconvert_exporter": "python",
   "pygments_lexer": "ipython3",
   "version": "3.12.5"
  }
 },
 "nbformat": 4,
 "nbformat_minor": 2
}
